{
 "cells": [
  {
   "cell_type": "code",
   "execution_count": null,
   "id": "08cafd4f",
   "metadata": {},
   "outputs": [],
   "source": [
    "import requests\n",
    "import pandas as pd\n",
    "import matplotlib.pyplot as plt\n",
    "\n",
    "%matplotlib inline"
   ]
  },
  {
   "cell_type": "code",
   "execution_count": null,
   "id": "e6d0b858",
   "metadata": {},
   "outputs": [],
   "source": [
    "endpoint = 'https://data.nashville.gov/resource/fuaa-r5cm.json'"
   ]
  },
  {
   "cell_type": "code",
   "execution_count": null,
   "id": "31c8b985",
   "metadata": {},
   "outputs": [],
   "source": [
    "response = requests.get(endpoint)"
   ]
  },
  {
   "cell_type": "code",
   "execution_count": null,
   "id": "f3edc0bc",
   "metadata": {},
   "outputs": [],
   "source": [
    "response"
   ]
  },
  {
   "cell_type": "code",
   "execution_count": null,
   "id": "ae0c3834",
   "metadata": {},
   "outputs": [],
   "source": [
    "result= response.json()"
   ]
  },
  {
   "cell_type": "markdown",
   "id": "a0fe13ca",
   "metadata": {},
   "source": [
    "1. Make an API request that returns the months where \"fire\" was searched in 2016. Which month had the most searches?  |"
   ]
  },
  {
   "cell_type": "code",
   "execution_count": null,
   "id": "363acc2c",
   "metadata": {},
   "outputs": [],
   "source": [
    "endpoint = 'https://data.nashville.gov/resource/fuaa-r5cm.json'\n",
    "\n",
    "params = { \n",
    "    'year':2016,\n",
    "    'query_text':'fire'\n",
    "}"
   ]
  },
  {
   "cell_type": "code",
   "execution_count": null,
   "id": "14d4040b",
   "metadata": {},
   "outputs": [],
   "source": [
    "response = requests.get(endpoint, params=params)"
   ]
  },
  {
   "cell_type": "code",
   "execution_count": null,
   "id": "20e52909",
   "metadata": {},
   "outputs": [],
   "source": [
    "response.text"
   ]
  },
  {
   "cell_type": "code",
   "execution_count": null,
   "id": "54ca8a69",
   "metadata": {
    "scrolled": true
   },
   "outputs": [],
   "source": [
    "res=response.json()\n",
    "res"
   ]
  },
  {
   "cell_type": "code",
   "execution_count": null,
   "id": "66f2c64e",
   "metadata": {},
   "outputs": [],
   "source": [
    "data = res\n",
    "\n",
    "fire_df = pd.DataFrame(data)\n",
    "fire_df = fire_df[fire_df['query_text'] == 'fire'].sort_values(by='query_count', ascending=False)\n",
    "fire_df"
   ]
  },
  {
   "cell_type": "code",
   "execution_count": null,
   "id": "adfa45eb",
   "metadata": {},
   "outputs": [],
   "source": [
    "fire_df = fire_df[['month_name', 'query_count']]\n",
    "fire_df = fire_df.reset_index(0, drop = True)\n",
    "fire_df.head(1)"
   ]
  },
  {
   "cell_type": "markdown",
   "id": "fa9f6f27",
   "metadata": {},
   "source": [
    "2. Make an API request that returns all the times a query was run more than 100 times in a month. How many times did this occur?  "
   ]
  },
  {
   "cell_type": "code",
   "execution_count": null,
   "id": "76b8004e",
   "metadata": {},
   "outputs": [],
   "source": [
    "endpoint = 'https://data.nashville.gov/resource/fuaa-r5cm.json?$where= query_count> 100 '"
   ]
  },
  {
   "cell_type": "code",
   "execution_count": null,
   "id": "679edba1",
   "metadata": {},
   "outputs": [],
   "source": [
    "query_count= requests.get(endpoint)"
   ]
  },
  {
   "cell_type": "code",
   "execution_count": null,
   "id": "1d74e982",
   "metadata": {},
   "outputs": [],
   "source": [
    "query_count"
   ]
  },
  {
   "cell_type": "code",
   "execution_count": null,
   "id": "7f5eae37",
   "metadata": {},
   "outputs": [],
   "source": [
    "len(query_count.json())"
   ]
  },
  {
   "cell_type": "markdown",
   "id": "2bedb711",
   "metadata": {},
   "source": [
    "3. Make another API request that returns all the times \"codes\" was searched more than 100 times in a month. How many times did this occur?  "
   ]
  },
  {
   "cell_type": "code",
   "execution_count": null,
   "id": "ae335cba",
   "metadata": {},
   "outputs": [],
   "source": [
    "endpoint = 'https://data.nashville.gov/resource/fuaa-r5cm.json?$where= query_count>100'\n",
    "\n",
    "params ={\n",
    "    'query_text':'codes'\n",
    "}"
   ]
  },
  {
   "cell_type": "code",
   "execution_count": null,
   "id": "c21472c3",
   "metadata": {},
   "outputs": [],
   "source": [
    "codes_count = requests.get(endpoint, params = params)"
   ]
  },
  {
   "cell_type": "code",
   "execution_count": null,
   "id": "76407299",
   "metadata": {},
   "outputs": [],
   "source": [
    "codes_count"
   ]
  },
  {
   "cell_type": "code",
   "execution_count": null,
   "id": "73b4aab8",
   "metadata": {},
   "outputs": [],
   "source": [
    "len(codes_count.json())"
   ]
  },
  {
   "cell_type": "markdown",
   "id": "b03d155f",
   "metadata": {},
   "source": [
    "4. Make an API request that returns the entire Top 500 Monthly Searches dataset. Make a chart that shows the number of times \"maps\" was searched in a month across the entire time frame."
   ]
  },
  {
   "cell_type": "code",
   "execution_count": null,
   "id": "f58ddfe6",
   "metadata": {},
   "outputs": [],
   "source": [
    "endpoint = 'https://data.nashville.gov/resource/fuaa-r5cm.json'"
   ]
  },
  {
   "cell_type": "code",
   "execution_count": null,
   "id": "de4eca71",
   "metadata": {},
   "outputs": [],
   "source": [
    "params = {\n",
    "    'query_text':'maps'\n",
    "}"
   ]
  },
  {
   "cell_type": "code",
   "execution_count": null,
   "id": "2aa47c84",
   "metadata": {},
   "outputs": [],
   "source": [
    "response = requests.get(endpoint, params=params)"
   ]
  },
  {
   "cell_type": "code",
   "execution_count": null,
   "id": "be71139d",
   "metadata": {},
   "outputs": [],
   "source": [
    "maps_res= response.json()\n",
    "maps_res"
   ]
  },
  {
   "cell_type": "code",
   "execution_count": null,
   "id": "b27b5376",
   "metadata": {},
   "outputs": [],
   "source": [
    "data = maps_res\n",
    "\n",
    "maps_df = pd.DataFrame(data)\n",
    "maps_df = maps_df[maps_df['query_text'] == 'maps'].sort_values(by='query_count', ascending=False)\n",
    "maps_df"
   ]
  },
  {
   "cell_type": "code",
   "execution_count": null,
   "id": "84976afd",
   "metadata": {},
   "outputs": [],
   "source": [
    "maps_df.info()"
   ]
  },
  {
   "cell_type": "code",
   "execution_count": null,
   "id": "de0428e0",
   "metadata": {},
   "outputs": [],
   "source": [
    "maps_df['query_count']= maps_df['query_count'].astype(int)"
   ]
  },
  {
   "cell_type": "code",
   "execution_count": null,
   "id": "2b45a5ca",
   "metadata": {},
   "outputs": [],
   "source": [
    "maps_df.info()"
   ]
  },
  {
   "cell_type": "code",
   "execution_count": null,
   "id": "dbf59895",
   "metadata": {},
   "outputs": [],
   "source": [
    "maps_df = maps_df.sort_values('query_count', ascending = False)\n",
    "maps_df"
   ]
  },
  {
   "cell_type": "code",
   "execution_count": null,
   "id": "9ba23899",
   "metadata": {},
   "outputs": [],
   "source": [
    "plt.figure(figsize=(17,10))\n",
    "plt.bar('month_name', 'query_count', data = maps_df.head(50));"
   ]
  },
  {
   "cell_type": "code",
   "execution_count": null,
   "id": "1e839478",
   "metadata": {},
   "outputs": [],
   "source": []
  }
 ],
 "metadata": {
  "kernelspec": {
   "display_name": "Python 3 (ipykernel)",
   "language": "python",
   "name": "python3"
  },
  "language_info": {
   "codemirror_mode": {
    "name": "ipython",
    "version": 3
   },
   "file_extension": ".py",
   "mimetype": "text/x-python",
   "name": "python",
   "nbconvert_exporter": "python",
   "pygments_lexer": "ipython3",
   "version": "3.10.9"
  }
 },
 "nbformat": 4,
 "nbformat_minor": 5
}
